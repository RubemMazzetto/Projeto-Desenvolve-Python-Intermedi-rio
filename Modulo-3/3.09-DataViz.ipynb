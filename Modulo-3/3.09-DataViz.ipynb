{
 "cells": [
  {
   "cell_type": "markdown",
   "metadata": {},
   "source": [
    "> Projeto Desenvolve <br>\n",
    "Programação Intermediária com Python <br>\n",
    "Profa. Camila Laranjeira (mila@projetodesenvolve.com.br) <br>\n",
    "\n",
    "# 3.9 - Visualização de Dados"
   ]
  },
  {
   "cell_type": "markdown",
   "metadata": {
    "vscode": {
     "languageId": "plaintext"
    }
   },
   "source": [
    "## Exercícios\n",
    "Vamos trabalhar com as mesmas bases de dados do exercício de Pandas. Aqui estão os links caso você queira baixar novamente, mas recomendo trabalhar com o `wc_formatado.csv` que exportamos na questão Q2 do exercício anterior.\n",
    "\n",
    "* https://raw.githubusercontent.com/camilalaranjeira/python-intermediario/main/fifa-wc/matches_1930_2022.csv\n",
    "* https://raw.githubusercontent.com/camilalaranjeira/python-intermediario/main/fifa-wc/matches_1991_2023.csv\n",
    "\n",
    "Para relembrar, essas são as colunas do dataframe:\n",
    "```\n",
    "Data columns (total 21 columns):\n",
    " #   Column             Non-Null Count  Dtype         \n",
    "---  ------             --------------  -----         \n",
    " 0   time_1             1312 non-null   string        \n",
    " 1   time_2             1312 non-null   string        \n",
    " 2   gols_1             1312 non-null   int64         \n",
    " 3   gols_2             1312 non-null   int64         \n",
    " 4   data               1312 non-null   datetime64[ns]\n",
    " 5   ano                1312 non-null   int64         \n",
    " 6   país_sede          1312 non-null   string        \n",
    " 7   comparecimento     1312 non-null   int64         \n",
    " 8   resultado          1312 non-null   string        \n",
    " 9   rodada             1312 non-null   category      \n",
    " 10  gols_1_detalhes    970 non-null    string        \n",
    " 11  gols_2_detalhes    771 non-null    string        \n",
    " 12  gols_1_contra      57 non-null     string        \n",
    " 13  gols_2_contra      30 non-null     string        \n",
    " 14  gols_1_penalti     170 non-null    string        \n",
    " 15  gols_2_penalti     119 non-null    string        \n",
    " 16  cartao_vermelho_1  59 non-null     string        \n",
    " 17  cartao_vermelho_2  65 non-null     string        \n",
    " 18  cartao_amarelo_1   834 non-null    string        \n",
    " 19  cartao_amarelo_2   857 non-null    string        \n",
    " 20  copa               1312 non-null   string \n",
    "```"
   ]
  },
  {
   "cell_type": "markdown",
   "metadata": {},
   "source": [
    "#### Q1.\n",
    "Realize todos os imports necessários para executar as três bibliotecas de visualização que conhecemos:\n",
    "* Matplotlib (lembre-se do comando mágico)\n",
    "* Seaborn\n",
    "* Plotly\n",
    "\n",
    "Para cada uma delas, altere o tema padrão de visualização. "
   ]
  },
  {
   "cell_type": "code",
   "execution_count": null,
   "metadata": {
    "vscode": {
     "languageId": "plaintext"
    }
   },
   "outputs": [],
   "source": [
    "# Importar Matplotlib com comando mágico\n",
    "%matplotlib inline\n",
    "import matplotlib.pyplot as plt\n",
    "\n",
    "# Alterar tema padrão do Matplotlib para 'dark_background'\n",
    "plt.style.use('dark_background')\n",
    "\n",
    "# Importar Seaborn\n",
    "import seaborn as sns\n",
    "\n",
    "# Alterar tema padrão do Seaborn para 'darkgrid'\n",
    "sns.set_style(\"darkgrid\")\n",
    "\n",
    "# Importar Plotly\n",
    "import plotly.graph_objects as go\n",
    "from plotly.offline import init_notebook_mode\n",
    "\n",
    "# Alterar tema padrão do Plotly para 'plotly_dark'\n",
    "init_notebook_mode(connected=True)  # Ativa o modo notebook\n",
    "go.Figure().update_layout(template='plotly_dark')  # Define o tema padrão"
   ]
  },
  {
   "cell_type": "markdown",
   "metadata": {
    "vscode": {
     "languageId": "plaintext"
    }
   },
   "source": [
    "#### Q2.\n",
    "Sobre os dados de copa do mundo, qual a distribuição de público presente nos jogos? Isso pode ser respondido com um histograma com os dados da coluna `comparecimento`.  \n",
    "\n",
    "Lembre-se que alguns jogos estavam com público 0 incorretamente, que tal remover essas ocorrências para não atrapalhar sua visualzação?\n",
    "\n",
    "Você deve implementar essa visualização nas três bibliotecas que vimos:\n",
    "* Matplotlib\n",
    "* Seaborn\n",
    "* Plotly\n",
    "\n",
    "Garanta que o gráfico tenha pelo menos os atributos de título e rótulos de dimensão."
   ]
  },
  {
   "cell_type": "code",
   "execution_count": null,
   "metadata": {
    "vscode": {
     "languageId": "plaintext"
    }
   },
   "outputs": [],
   "source": [
    "plt.style.use('dark_background')  # Tema escuro\n",
    "plt.hist(wc['comparecimento'], bins=30, color='cyan', edgecolor='white')\n",
    "plt.title('Distribuição de Público Presente nos Jogos das Copas')\n",
    "plt.xlabel('Público Presente')\n",
    "plt.ylabel('Frequência')\n",
    "plt.show()"
   ]
  },
  {
   "cell_type": "code",
   "execution_count": null,
   "metadata": {
    "vscode": {
     "languageId": "plaintext"
    }
   },
   "outputs": [],
   "source": [
    "sns.set_style(\"darkgrid\")  # Tema com grade escura\n",
    "sns.histplot(data=wc, x='comparecimento', bins=30, color='purple')\n",
    "plt.title('Distribuição de Público Presente nos Jogos das Copas')\n",
    "plt.xlabel('Público Presente')\n",
    "plt.ylabel('Frequência')\n",
    "plt.show()"
   ]
  },
  {
   "cell_type": "code",
   "execution_count": null,
   "metadata": {
    "vscode": {
     "languageId": "plaintext"
    }
   },
   "outputs": [],
   "source": [
    "init_notebook_mode(connected=True)  # Ativa modo notebook\n",
    "fig = go.Figure(data=[go.Histogram(x=wc['comparecimento'], nbinsx=30, marker_color='green')])\n",
    "fig.update_layout(\n",
    "    title='Distribuição de Público Presente nos Jogos das Copas',\n",
    "    xaxis_title='Público Presente',\n",
    "    yaxis_title='Frequência',\n",
    "    template='plotly_dark'  # Tema escuro\n",
    ")\n",
    "fig.show()"
   ]
  },
  {
   "cell_type": "markdown",
   "metadata": {},
   "source": [
    "#### Q3.\n",
    "\n",
    "Apresente um gráfico de dispersão (scatter) dos atributos `gols_1` e `gols_2`. Isso representa a relação entre gols feitos e gols tomados por jogo. Há alguma relação interessante entre esses atributos?\n",
    "\n",
    "Para facilitar a visualização dos dados (já que tem muitos placares repetidos), aplique uma leve distorção aos dados para que cada ponto esteja deslocado aleatoriamente de seu valor original. Código apresentado a seguir\n",
    "```python\n",
    "gols = wc[['gols_1', 'gols_2']] * np.random.random((len(wc),2))\n",
    "```\n",
    "\n",
    "Você deve implementar essa visualização nas três bibliotecas que vimos:\n",
    "* Matplotlib\n",
    "* Seaborn\n",
    "* Plotly\n",
    "\n",
    "Garanta que o gráfico tenha pelo menos os atributos de título e rótulos de dimensão."
   ]
  },
  {
   "cell_type": "code",
   "execution_count": null,
   "metadata": {
    "vscode": {
     "languageId": "plaintext"
    }
   },
   "outputs": [],
   "source": [
    "plt.style.use('dark_background')  # Tema escuro\n",
    "plt.scatter(gols['gols_1'], gols['gols_2'], color='cyan', alpha=0.6, edgecolor='white')\n",
    "plt.title('Relação entre Gols Feitos e Gols Tomados por Jogo')\n",
    "plt.xlabel('Gols Feitos (gols_1)')\n",
    "plt.ylabel('Gols Tomados (gols_2)')\n",
    "plt.show()"
   ]
  },
  {
   "cell_type": "code",
   "execution_count": null,
   "metadata": {
    "vscode": {
     "languageId": "plaintext"
    }
   },
   "outputs": [],
   "source": [
    "sns.set_style(\"darkgrid\")  # Tema com grade escura\n",
    "sns.scatterplot(data=gols, x='gols_1', y='gols_2', color='purple', alpha=0.6)\n",
    "plt.title('Relação entre Gols Feitos e Gols Tomados por Jogo')\n",
    "plt.xlabel('Gols Feitos (gols_1)')\n",
    "plt.ylabel('Gols Tomados (gols_2)')\n",
    "plt.show()"
   ]
  },
  {
   "cell_type": "code",
   "execution_count": null,
   "metadata": {
    "vscode": {
     "languageId": "plaintext"
    }
   },
   "outputs": [],
   "source": [
    "init_notebook_mode(connected=True)  # Ativa modo notebook\n",
    "fig = go.Figure(data=[go.Scatter(x=gols['gols_1'], y=gols['gols_2'], mode='markers', marker=dict(color='green', opacity=0.6))])\n",
    "fig.update_layout(\n",
    "    title='Relação entre Gols Feitos e Gols Tomados por Jogo',\n",
    "    xaxis_title='Gols Feitos (gols_1)',\n",
    "    yaxis_title='Gols Tomados (gols_2)',\n",
    "    template='plotly_dark'  # Tema escuro\n",
    ")\n",
    "fig.show()"
   ]
  },
  {
   "cell_type": "markdown",
   "metadata": {},
   "source": [
    "#### Q4.\n",
    "\n",
    "Apresente um gráfico de barras com o top 10 países que mais participaram de copas do mundo, onde no eixo x devem estar o nome dos países e no eixo y a contagem de participações. Você deve separar a contagem de participações em copas femininas e masculinas, empilhando as barras de cada informação.\n",
    "\n",
    "No exemplo de barras empilhadas da galeria do matplotlib, imagine que a parte azul são as participações do país em copas masculinas, e em laranja as participações femininas:\n",
    "* https://matplotlib.org/stable/gallery/lines_bars_and_markers/bar_stacked.html\n",
    "\n",
    "Você deve implementar essa visualização nas três bibliotecas que vimos:\n",
    "* Matplotlib\n",
    "* Seaborn\n",
    "* Plotly\n",
    "\n",
    "Garanta que o gráfico tenha pelo menos os atributos:\n",
    "* título\n",
    "* rótulos de dimensão.\n",
    "* legenda"
   ]
  },
  {
   "cell_type": "code",
   "execution_count": null,
   "metadata": {
    "vscode": {
     "languageId": "plaintext"
    }
   },
   "outputs": [],
   "source": [
    "plt.style.use('dark_background')  # Tema escuro\n",
    "x = range(len(participacao_top_10.index))\n",
    "plt.bar(x, participacao_top_10['Masculina'], color='blue', label='Masculina')\n",
    "plt.bar(x, participacao_top_10['Feminina'], bottom=participacao_top_10['Masculina'], color='orange', label='Feminina')\n",
    "plt.xlabel('Países')\n",
    "plt.ylabel('Número de Participações')\n",
    "plt.title('Top 10 Países com Mais Participações em Copas do Mundo')\n",
    "plt.xticks(x, participacao_top_10.index, rotation=45, ha='right')\n",
    "plt.legend()\n",
    "plt.tight_layout()\n",
    "plt.show()"
   ]
  },
  {
   "cell_type": "code",
   "execution_count": null,
   "metadata": {
    "vscode": {
     "languageId": "plaintext"
    }
   },
   "outputs": [],
   "source": [
    "sns.set_style(\"darkgrid\")  # Tema com grade escura\n",
    "participacao_top_10_melted = participacao_top_10.reset_index().melt(id_vars='país', value_vars=['Masculina', 'Feminina'],\n",
    "                                                                   var_name='copa', value_name='num_copas')\n",
    "sns.barplot(data=participacao_top_10_melted, x='país', y='num_copas', hue='copa', dodge=False)\n",
    "plt.xlabel('Países')\n",
    "plt.ylabel('Número de Participações')\n",
    "plt.title('Top 10 Países com Mais Participações em Copas do Mundo')\n",
    "plt.xticks(rotation=45, ha='right')\n",
    "plt.legend(title='Copa')\n",
    "plt.tight_layout()\n",
    "plt.show()"
   ]
  },
  {
   "cell_type": "code",
   "execution_count": null,
   "metadata": {
    "vscode": {
     "languageId": "plaintext"
    }
   },
   "outputs": [],
   "source": [
    "init_notebook_mode(connected=True)  # Ativa modo notebook\n",
    "fig = go.Figure(data=[\n",
    "    go.Bar(name='Masculina', x=participacao_top_10.index, y=participacao_top_10['Masculina'], marker_color='blue'),\n",
    "    go.Bar(name='Feminina', x=participacao_top_10.index, y=participacao_top_10['Feminina'], marker_color='orange')\n",
    "])\n",
    "fig.update_layout(barmode='stack', title='Top 10 Países com Mais Participações em Copas do Mundo',\n",
    "                  xaxis_title='Países', yaxis_title='Número de Participações',\n",
    "                  template='plotly_dark', legend_title='Copa')\n",
    "fig.update_xaxes(tickangle=45)\n",
    "fig.show()"
   ]
  },
  {
   "cell_type": "markdown",
   "metadata": {},
   "source": [
    "#### Q5.\n",
    "\n",
    "Vamos fazer um compilado com as estatísticas históricas de copas do mundo!\n",
    "\n",
    "Com a biblioteca de sua preferência você deve criar 4 subplots organizados em um grid de 2 linhas e 2 colunas. Eles devem conter os seguintes gráficos:\n",
    "* Linha 1, coluna 1: Gráfico de barras com a quantidade de jogos que aconteceram por ano\n",
    "* Linha 1, coluna 2: Gráfico de área (referências a seguir) com o total de gols por ano, separando as informações de `gols_1` e `gols_2` para distinguir gols em casa e do time visitante.\n",
    "* Linha 2, coluna 1: Gráfico de área com o total de cartões por ano, separando as informações de cartões amarelos e cartões vermelhos, mas agregando cartões do time 1 ou time 2. Ou seja, uma área com `cartao_amarelo_1 + cartao_amarelo_2` e outra área com `cartao_vermelho_1 + cartao_vermelho_2`.\n",
    "* Linha 2, coluna 2: Gráfico de barras com o total de gols contra por ano, somando `gols_contra_1` e `gols_contra_2`.\n",
    "\n",
    "Referências sobre gráfico de área\n",
    "* Matplotlib: https://matplotlib.org/stable/gallery/lines_bars_and_markers/stackplot_demo.html#sphx-glr-gallery-lines-bars-and-markers-stackplot-demo-py\n",
    "* Pandas + Matplotlib: https://pandas.pydata.org/docs/reference/api/pandas.DataFrame.plot.area.html\n",
    "* Seaborn: https://seaborn.pydata.org/generated/seaborn.objects.Area.html\n",
    "* Plotly: https://plotly.com/python/filled-area-plots/"
   ]
  },
  {
   "cell_type": "code",
   "execution_count": null,
   "metadata": {
    "vscode": {
     "languageId": "plaintext"
    }
   },
   "outputs": [],
   "source": [
    "# Carregar os dados (assumindo que já foram baixados e estão na pasta)\n",
    "wcwomen_df = pd.read_csv('matches_1991_2023.csv')\n",
    "wcmen_df = pd.read_csv('matches_1930_2022.csv')\n",
    "wc = pd.concat((wcwomen_df, wcmen_df)).reset_index()\n",
    "\n",
    "# Renomear colunas (conforme Q1)\n",
    "nomes_traduzidos = {\n",
    "    'home_team': 'time_1', 'away_team': 'time_2', 'home_score': 'gols_1', 'away_score': 'gols_2',\n",
    "    'Date': 'data', 'Year': 'ano', 'Host': 'país_sede', 'Attendance': 'comparecimento',\n",
    "    'Score': 'resultado', 'Round': 'rodada', 'home_goal': 'gols_1_detalhes', 'away_goal': 'gols_2_detalhes',\n",
    "    'home_own_goal': 'gols_1_contra', 'away_own_goal': 'gols_2_contra',\n",
    "    'home_penalty_goal': 'gols_1_penalti', 'away_penalty_goal': 'gols_2_penalti',\n",
    "    'home_red_card': 'cartao_vermelho_1', 'away_red_card': 'cartao_vermelho_2',\n",
    "    'home_yellow_card_long': 'cartao_amarelo_1', 'away_yellow_card_long': 'cartao_amarelo_2'\n",
    "}\n",
    "wc = wc.loc[:, nomes_traduzidos.keys()]\n",
    "wc.columns = nomes_traduzidos.values()\n",
    "\n",
    "# Converter tipos (conforme Q1, apenas os relevantes)\n",
    "wc['ano'] = wc['ano'].astype('int64')\n",
    "wc['gols_1'] = wc['gols_1'].astype('int64')\n",
    "wc['gols_2'] = wc['gols_2'].astype('int64')\n",
    "wc['cartao_amarelo_1'] = wc['cartao_amarelo_1'].astype('string')\n",
    "wc['cartao_amarelo_2'] = wc['cartao_amarelo_2'].astype('string')\n",
    "wc['cartao_vermelho_1'] = wc['cartao_vermelho_1'].astype('string')\n",
    "wc['cartao_vermelho_2'] = wc['cartao_vermelho_2'].astype('string')\n",
    "wc['gols_1_contra'] = wc['gols_1_contra'].astype('string')\n",
    "wc['gols_2_contra'] = wc['gols_2_contra'].astype('string')\n",
    "\n",
    "# Função para contar itens em string (ex.: cartões ou gols contra)\n",
    "def contar_itens(texto):\n",
    "    if pd.isna(texto) or texto == 'nan':\n",
    "        return 0\n",
    "    return len(texto.strip('[]').split(\"', '\"))\n",
    "\n",
    "# Criar colunas de contagem para cartões\n",
    "wc['num_amarelos_1'] = wc['cartao_amarelo_1'].apply(contar_itens)\n",
    "wc['num_amarelos_2'] = wc['cartao_amarelo_2'].apply(contar_itens)\n",
    "wc['num_vermelhos_1'] = wc['cartao_vermelho_1'].apply(contar_itens)\n",
    "wc['num_vermelhos_2'] = wc['cartao_vermelho_2'].apply(contar_itens)\n",
    "\n",
    "# Agrupar por ano\n",
    "dados_por_ano = wc.groupby('ano').agg({\n",
    "    'data': 'count',  # Quantidade de jogos\n",
    "    'gols_1': 'sum',\n",
    "    'gols_2': 'sum',\n",
    "    'num_amarelos_1': 'sum',\n",
    "    'num_amarelos_2': 'sum',\n",
    "    'num_vermelhos_1': 'sum',\n",
    "    'num_vermelhos_2': 'sum',\n",
    "    'gols_1_contra': lambda x: sum(contar_itens(t) for t in x),\n",
    "    'gols_2_contra': lambda x: sum(contar_itens(t) for t in x)\n",
    "}).reset_index()\n",
    "\n",
    "dados_por_ano['total_amarelos'] = dados_por_ano['num_amarelos_1'] + dados_por_ano['num_amarelos_2']\n",
    "dados_por_ano['total_vermelhos'] = dados_por_ano['num_vermelhos_1'] + dados_por_ano['num_vermelhos_2']\n",
    "dados_por_ano['total_gols_contra'] = dados_por_ano['gols_1_contra'] + dados_por_ano['gols_2_contra']\n",
    "\n",
    "# Configurar grid 2x2\n",
    "fig, axs = plt.subplots(2, 2, figsize=(12, 8))\n",
    "\n",
    "# Linha 1, Coluna 1: Barras - Jogos por ano\n",
    "axs[0, 0].bar(dados_por_ano['ano'], dados_por_ano['data'], color='cyan')\n",
    "axs[0, 0].set_title('Quantidade de Jogos por Ano')\n",
    "axs[0, 0].set_xlabel('Ano')\n",
    "axs[0, 0].set_ylabel('Jogos')\n",
    "\n",
    "# Linha 1, Coluna 2: Área - Gols por ano (empilhado)\n",
    "axs[0, 1].stackplot(dados_por_ano['ano'], dados_por_ano['gols_1'], dados_por_ano['gols_2'], labels=['Gols em Casa', 'Gols Visitante'], colors=['blue', 'orange'])\n",
    "axs[0, 1].set_title('Total de Gols por Ano')\n",
    "axs[0, 1].set_xlabel('Ano')\n",
    "axs[0, 1].set_ylabel('Gols')\n",
    "axs[0, 1].legend()\n",
    "\n",
    "# Linha 2, Coluna 1: Área - Cartões por ano (empilhado)\n",
    "axs[1, 0].stackplot(dados_por_ano['ano'], dados_por_ano['total_amarelos'], dados_por_ano['total_vermelhos'], labels=['Amarelos', 'Vermelhos'], colors=['yellow', 'red'])\n",
    "axs[1, 0].set_title('Total de Cartões por Ano')\n",
    "axs[1, 0].set_xlabel('Ano')\n",
    "axs[1, 0].set_ylabel('Cartões')\n",
    "axs[1, 0].legend()\n",
    "\n",
    "# Linha 2, Coluna 2: Barras - Gols Contra por ano\n",
    "axs[1, 1].bar(dados_por_ano['ano'], dados_por_ano['total_gols_contra'], color='purple')\n",
    "axs[1, 1].set_title('Total de Gols Contra por Ano')\n",
    "axs[1, 1].set_xlabel('Ano')\n",
    "axs[1, 1].set_ylabel('Gols Contra')\n",
    "\n",
    "plt.tight_layout()\n",
    "plt.show()\n",
    "\n",
    "\n",
    "# Carregar os dados (assumindo que já foram baixados e estão na pasta)\n",
    "# [Código de carregamento e processamento de dados igual ao acima]\n",
    "\n",
    "# Criar subplots 2x2\n",
    "fig = make_subplots(rows=2, cols=2, specs=[[{'type': 'xy'}, {'type': 'xy'}], [{'type': 'xy'}, {'type': 'xy'}]],\n",
    "                    subplot_titles=('Quantidade de Jogos por Ano', 'Total de Gols por Ano',\n",
    "                                    'Total de Cartões por Ano', 'Total de Gols Contra por Ano'))\n",
    "\n",
    "# Linha 1, Coluna 1: Barras - Jogos por ano\n",
    "fig.add_trace(go.Bar(x=dados_por_ano['ano'], y=dados_por_ano['data'], marker_color='cyan'), row=1, col=1)\n",
    "\n",
    "# Linha 1, Coluna 2: Área - Gols por ano (empilhado)\n",
    "fig.add_trace(go.Scatter(x=dados_por_ano['ano'], y=dados_por_ano['gols_1'], name='Gols em Casa', fill='tozeroy', mode='lines', line_color='blue'), row=1, col=2)\n",
    "fig.add_trace(go.Scatter(x=dados_por_ano['ano'], y=dados_por_ano['gols_2'] + dados_por_ano['gols_1'], name='Gols Visitante', fill='tonexty', mode='lines', line_color='orange'), row=1, col=2)\n",
    "\n",
    "# Linha 2, Coluna 1: Área - Cartões por ano (empilhado)\n",
    "fig.add_trace(go.Scatter(x=dados_por_ano['ano'], y=dados_por_ano['total_amarelos'], name='Amarelos', fill='tozeroy', mode='lines', line_color='yellow'), row=2, col=1)\n",
    "fig.add_trace(go.Scatter(x=dados_por_ano['ano'], y=dados_por_ano['total_vermelhos'] + dados_por_ano['total_amarelos'], name='Vermelhos', fill='tonexty', mode='lines', line_color='red'), row=2, col=1)\n",
    "\n",
    "# Linha 2, Coluna 2: Barras - Gols Contra por ano\n",
    "fig.add_trace(go.Bar(x=dados_por_ano['ano'], y=dados_por_ano['total_gols_contra'], marker_color='purple'), row=2, col=2)\n",
    "\n",
    "# Atualizar layout\n",
    "fig.update_layout(title_text='Compilado de Estatísticas Históricas de Copas do Mundo', template='plotly_dark',\n",
    "                  height=600, width=800, legend_title_text='Legend')\n",
    "fig.update_xaxes(title_text=\"Ano\", row=1, col=1)\n",
    "fig.update_yaxes(title_text=\"Jogos\", row=1, col=1)\n",
    "fig.update_xaxes(title_text=\"Ano\", row=1, col=2)\n",
    "fig.update_yaxes(title_text=\"Gols\", row=1, col=2)\n",
    "fig.update_xaxes(title_text=\"Ano\", row=2, col=1)\n",
    "fig.update_yaxes(title_text=\"Cartões\", row=2, col=1)\n",
    "fig.update_xaxes(title_text=\"Ano\", row=2, col=2)\n",
    "fig.update_yaxes(title_text=\"Gols Contra\", row=2, col=2)\n",
    "fig.show()"
   ]
  }
 ],
 "metadata": {
  "language_info": {
   "name": "python"
  }
 },
 "nbformat": 4,
 "nbformat_minor": 2
}
