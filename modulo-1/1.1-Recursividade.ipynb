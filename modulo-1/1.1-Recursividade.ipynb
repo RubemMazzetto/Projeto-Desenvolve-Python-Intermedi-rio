{
 "cells": [
  {
   "cell_type": "markdown",
   "id": "c87bc264",
   "metadata": {},
   "source": [
    "> Projeto Desenvolve <br>\n",
    "Programação Intermediária com Python <br>\n",
    "Profa. Camila Laranjeira (mila@projetodesenvolve.com.br) <br>\n",
    "\n",
    "# 1.1 - Recursividade"
   ]
  },
  {
   "cell_type": "markdown",
   "id": "02e47197",
   "metadata": {},
   "source": [
    "## Exercícios:\n",
    "\n",
    "#### **Q1**. \n",
    "Faça um procedimento recursivo que receba dois valores inteiros `a` e `b` e imprime o intervalo fechado entre eles. Se `a > b` imprima uma mensagem de erro.\n",
    "\n",
    "| Entrada |  Saída |\n",
    "| ------- | ------ |\n",
    "| 1 10    | 1 2 3 4 5 6 7 8 9 10 |\n",
    "| -5 1    | -5 -4 -3 -2 -1 |\n",
    "| 5 -5    | Valores invalidos |\n",
    "| 17 20   | 17 18 19 20 |"
   ]
  },
  {
   "cell_type": "code",
   "execution_count": null,
   "id": "e89a9966",
   "metadata": {},
   "outputs": [],
   "source": [
    "def imprimir_intervalo_recursivo(a: int, b: int) -> None:    \n",
    "    if a > b:\n",
    "        print(\"Valores inválidos\")\n",
    "        return\n",
    "    print(a, end=\" \")\n",
    "\n",
    "    if a == b:\n",
    "        return\n",
    "\n",
    "    imprimir_intervalo_recursivo(a + 1, b)\n",
    "\n",
    "print(\"Exemplo 1:\")\n",
    "imprimir_intervalo_recursivo(1, 10)\n",
    "print(\"\\n\" + \"-\"*20)\n",
    "\n",
    "print(\"Exemplo 2:\")\n",
    "imprimir_intervalo_recursivo(-5, 1)\n",
    "print(\"\\n\" + \"-\"*20)\n",
    "\n",
    "print(\"Exemplo 3:\")\n",
    "imprimir_intervalo_recursivo(5, -5)\n",
    "print(\"\\n\" + \"-\"*20)\n",
    "\n",
    "print(\"Exemplo 4:\")\n",
    "imprimir_intervalo_recursivo(17, 20)\n",
    "print(\"\\n\" + \"-\"*20)"
   ]
  },
  {
   "cell_type": "markdown",
   "id": "b48196ed",
   "metadata": {},
   "source": [
    "---\n",
    "\n",
    "\n",
    "#### **Q2**. \n",
    "Mudando **apenas uma linha**, altere o código anterior para imprimir o intervalo invertido.\n",
    "\n",
    "| Entrada |  Saída |\n",
    "| ------- | ------ |\n",
    "| 1 10    | 10 9 8 7 6 5 4 3 2 1 |\n",
    "| -5 1    | -1 -2 -3 -4 -5 |\n",
    "| 5 -5    | Valores invalidos |\n",
    "| 17 20   | 20 19 18 17 |"
   ]
  },
  {
   "cell_type": "code",
   "execution_count": null,
   "id": "4d0c21b4",
   "metadata": {},
   "outputs": [],
   "source": [
    "def imprimir_intervalo_recursivo_invertido(a: int, b: int) -> None:\n",
    "\n",
    "    if a > b:\n",
    "        print(\"Valores inválidos\")\n",
    "        return\n",
    "\n",
    "    if a == b:\n",
    "        print(a, end=\" \")\n",
    "        return\n",
    "\n",
    "    imprimir_intervalo_recursivo_invertido(a + 1, b)\n",
    "\n",
    "    print(a, end=\" \")\n",
    "    \n",
    "\n",
    "print(\"Exemplo 1:\")\n",
    "imprimir_intervalo_recursivo_invertido(1, 10)\n",
    "print(\"\\n\" + \"-\"*20)\n",
    "\n",
    "print(\"Exemplo 2:\")\n",
    "imprimir_intervalo_recursivo_invertido(-5, 1)\n",
    "print(\"\\n\" + \"-\"*20)\n",
    "\n",
    "print(\"Exemplo 3:\")\n",
    "imprimir_intervalo_recursivo_invertido(5, -5)\n",
    "print(\"\\n\" + \"-\"*20)\n",
    "\n",
    "print(\"Exemplo 4:\")\n",
    "imprimir_intervalo_recursivo_invertido(17, 20)\n",
    "print(\"\\n\" + \"-\"*20)"
   ]
  },
  {
   "cell_type": "markdown",
   "id": "be727074",
   "metadata": {},
   "source": [
    "\n",
    "\n",
    "---\n",
    "\n",
    "\n",
    "#### **Q3**. \n",
    "Escreva uma função recursiva que recebe um inteiro `n > 1` e calcula a soma dos valores entre `n` e `1`.\n",
    "\n",
    "| Entrada |  Saída |\n",
    "| ------- | ------ |\n",
    "| 5   | 15 |\n",
    "| 13  | 78 |"
   ]
  },
  {
   "cell_type": "code",
   "execution_count": null,
   "id": "c4da98b8",
   "metadata": {},
   "outputs": [],
   "source": [
    "def somar_recursivamente(n: int) -> int:\n",
    "\n",
    "    if n <= 1:\n",
    "        return 1\n",
    "    return n + somar_recursivamente(n - 1)\n",
    "print(f\"A soma de 5 até 1 é: {somar_recursivamente(5)}\")\n",
    "print(f\"A soma de 13 até 1 é: {somar_recursivamente(13)}\")"
   ]
  },
  {
   "cell_type": "markdown",
   "id": "4142b276",
   "metadata": {},
   "source": [
    "\n",
    "\n",
    "---\n",
    "\n",
    "\n",
    "#### **Q4**.  \n",
    "\n",
    "Escreva uma função recursiva que recebe um inteiro `n` e verifica se `n`é um valor primo, ou seja, se é divisível apenas por si mesmo e por `1`."
   ]
  },
  {
   "cell_type": "code",
   "execution_count": null,
   "id": "4c96eb2d",
   "metadata": {},
   "outputs": [],
   "source": [
    "def _eh_primo_recursivo(n: int, i: int) -> bool:\n",
    "    if i == n:\n",
    "        return True\n",
    "\n",
    "    if n % i == 0:\n",
    "        return False\n",
    "\n",
    "    return _eh_primo_recursivo(n, i + 1)\n",
    "\n",
    "def eh_primo(n: int) -> bool:\n",
    "    if n <= 1:\n",
    "        return False\n",
    "    if n <= 3:\n",
    "        return True\n",
    "    if n % 2 == 0:\n",
    "        return False\n",
    "    return _eh_primo_recursivo(n, 3)\n",
    "\n",
    "print(f\"O número 7 é primo? {eh_primo(7)}\")\n",
    "print(f\"O número 10 é primo? {eh_primo(10)}\")\n",
    "print(f\"O número 2 é primo? {eh_primo(2)}\")\n",
    "print(f\"O número 13 é primo? {eh_primo(13)}\")\n",
    "print(f\"O número 25 é primo? {eh_primo(25)}\")\n",
    "print(f\"O número 29 é primo? {eh_primo(29)}\")\n",
    "print(f\"O número 1 é primo? {eh_primo(1)}\")"
   ]
  },
  {
   "cell_type": "markdown",
   "id": "2a0ae81c",
   "metadata": {},
   "source": [
    "\n",
    "\n",
    "---\n",
    "\n",
    "\n",
    "#### **Q5**. \n",
    "Implemente uma função recursiva que recebe um número inteiro decimal e retorna sua representação binária como uma string. Para realizar essa conversão, utilize o método de divisão sucessiva, onde você divide o número decimal por 2 e coleta os restos até que o quociente seja zero. A ordem dos restos coletados, de baixo para cima, forma o número binário correspondente.\n",
    "\n",
    "**Exemplo de Conversão:**\n",
    "\n",
    "Para converter o número decimal 13 para binário:\n",
    "```\n",
    "13 ÷ 2 = 6, resto 1\n",
    "6 ÷ 2 = 3, resto 0\n",
    "3 ÷ 2 = 1, resto 1\n",
    "1 ÷ 2 = 0, resto 1\n",
    "```\n",
    "Lendo os restos de baixo para cima, obtemos o número binário `1101`."
   ]
  },
  {
   "cell_type": "code",
   "execution_count": null,
   "id": "a7d954f0",
   "metadata": {},
   "outputs": [],
   "source": [
    "def decimal_para_binario(n: int) -> str:\n",
    "    if n == 0:\n",
    "        return \"\"\n",
    "    \n",
    "    quociente = n // 2\n",
    "    resto = n % 2\n",
    "    \n",
    "    return decimal_para_binario(quociente) + str(resto)\n",
    "print(f\"O número decimal 13 em binário é: {decimal_para_binario(13)}\")\n",
    "print(f\"O número decimal 25 em binário é: {decimal_para_binario(25)}\")\n",
    "print(f\"O número decimal 100 em binário é: {decimal_para_binario(100)}\")\n",
    "print(f\"O número decimal 0 em binário é: {decimal_para_binario(0)}\")"
   ]
  },
  {
   "cell_type": "markdown",
   "id": "0f500709",
   "metadata": {},
   "source": [
    "\n",
    "\n",
    "---\n",
    "\n",
    "\n",
    "#### **Extra**: \n",
    "\n",
    "Implemente uma função recursiva em Python que realiza a travessia em pré-ordem de uma árvore binária representada por listas aninhadas. Na travessia em pré-ordem (ou pré-fixada), o nó raiz é visitado primeiro, seguido pela subárvore esquerda e, por fim, pela subárvore direita. A questão fixa as constantes `RAIZ_IDX, ESQ_IDX, DIR_IDX` representando os índices da lista onde se encontra o valor raíz, o nó a esquerda e o nó a direita.\n",
    "\n",
    "```\n",
    "# Representação visual da árvore\n",
    "       4\n",
    "      / \\\n",
    "     2   5\n",
    "    / \\\n",
    "   1   3\n",
    "```"
   ]
  },
  {
   "cell_type": "code",
   "execution_count": null,
   "id": "10df4831",
   "metadata": {},
   "outputs": [],
   "source": [
    "RAIZ_IDX, ESQ_IDX, DIR_IDX = 0, 1, 2\n",
    "\n",
    "arvore = [\n",
    "    4,              # raíz, nível 0\n",
    "    [               # ramo da esquerda, nível 1\n",
    "        2,          # valor filho esquerda\n",
    "        [1, None, None],   # ramo da esquerda, nível 2\n",
    "        [3, None, None]    # ramo da direita, nível 2\n",
    "    ],\n",
    "    [               # ramo da direita, nível 1\n",
    "        5,          # valor filho da direita\n",
    "        None,              # ramo da esquerda, nível 2\n",
    "        None               # ramo da direita, nível 2\n",
    "    ]\n",
    "]"
   ]
  }
 ],
 "metadata": {
  "kernelspec": {
   "display_name": "Python 3 (ipykernel)",
   "language": "python",
   "name": "python3"
  },
  "language_info": {
   "codemirror_mode": {
    "name": "ipython",
    "version": 3
   },
   "file_extension": ".py",
   "mimetype": "text/x-python",
   "name": "python",
   "nbconvert_exporter": "python",
   "pygments_lexer": "ipython3",
   "version": "3.9.6"
  }
 },
 "nbformat": 4,
 "nbformat_minor": 5
}
