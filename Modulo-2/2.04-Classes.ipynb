{
 "cells": [
  {
   "cell_type": "markdown",
   "metadata": {},
   "source": [
    "> Projeto Desenvolve <br>\n",
    "Programação Intermediária com Python <br>\n",
    "Profa. Camila Laranjeira (mila@projetodesenvolve.com.br) <br>\n",
    "\n",
    "# 2.4 - Classes, atributos e métodos"
   ]
  },
  {
   "cell_type": "markdown",
   "metadata": {},
   "source": [
    "## Exercícios\n",
    "\n",
    "#### Q1.\n",
    "Vamos criar aos pouquinhos uma classe Evento que registra eventos de um calendário. Pra começar, nessa questão você deve:\n",
    "\n",
    "* Criar uma classe chamada Evento\n",
    "* Adicionar um atributo de classe `total_eventos` que será usado para contar o número total de eventos (instâncias de classe) criadas.\n",
    "* Implemente o método construtor que deve receber os parâmetros `titulo` (`string`), `data_hora` (`datetime`), `descrição` (`string`). Crie e inicialize um atributo de instância para cada um dos parâmetros citados.\n",
    "* O construtor também deve inicializar um atributo de instância `is_concluido = False`. Esse atributo será utilizado mais à frente. \n",
    "* No construtor você também deve incrementar o atributo de classe `total_eventos` em 1 a cada nova instância criada.\n",
    "\n",
    "Teste o seu código criando duas diferentes instâncias de evento (preencha os atributos como quiser) e imprimindo todos os seus atributos (de classe e de instância).\n",
    "\n",
    "> Consulte [este tutorial biblioteca `datetime`](https://www.w3schools.com/python/python_datetime.asp) caso não esteja familiarizado."
   ]
  },
  {
   "cell_type": "code",
   "execution_count": null,
   "metadata": {
    "vscode": {
     "languageId": "plaintext"
    }
   },
   "outputs": [],
   "source": [
    "from datetime import datetime\n",
    "\n",
    "class Evento:\n",
    "    \n",
    "    total_eventos = 0  # Atributo de classe para contar instâncias\n",
    "\n",
    "    def __init__(self, titulo: str, data_hora: datetime, descricao: str):\n",
    "        self.titulo = titulo\n",
    "        self.data_hora = data_hora\n",
    "        self.descricao = descricao\n",
    "        self.is_concluido = False\n",
    "        Evento.total_eventos += 1\n",
    "\n",
    "# Teste da Q1\n",
    "evento1 = Evento(\"Reunião Equipe\", datetime(2025, 9, 7, 14, 0), \"Planejamento do projeto\")\n",
    "evento2 = Evento(\"Aniversário\", datetime(2025, 9, 8, 18, 0), \"Celebração com amigos\")\n",
    "\n",
    "print(\"Evento 1:\")\n",
    "print(f\"Título: {evento1.titulo}\")\n",
    "print(f\"Data e Hora: {evento1.data_hora}\")\n",
    "print(f\"Descrição: {evento1.descricao}\")\n",
    "print(f\"Concluído: {evento1.is_concluido}\")\n",
    "print(f\"Total de Eventos: {Evento.total_eventos}\")\n",
    "\n",
    "print(\"\\nEvento 2:\")\n",
    "print(f\"Título: {evento2.titulo}\")\n",
    "print(f\"Data e Hora: {evento2.data_hora}\")\n",
    "print(f\"Descrição: {evento2.descricao}\")\n",
    "print(f\"Concluído: {evento2.is_concluido}\")\n",
    "print(f\"Total de Eventos: {Evento.total_eventos}\")"
   ]
  },
  {
   "cell_type": "markdown",
   "metadata": {},
   "source": [
    "#### Q2.\n",
    "Agora vamos adicionar métodos à nossa classe. Lembre dos diferentes decoradores que aprendemos. Você deve redefinir a classe com os seguintes métodos:\n",
    "* Um método `isConcluido()` que avalia se a `data_hora` do evento é menor que `datetime.now()` (a data e hora atual). Em caso positivo, atualiza o atributo de instância `is_concluido` para o valor `True`. \n",
    "* Um método de classe `num_eventos()` que retorna o valor do atributo de classe `total_eventos`.\n",
    "* Um método estático `valida_evento(nome, data_hora, descricao)` que recebe os atributos de um evento e testa os tipos de cada variável, retornando `True` caso todos estejam corretos e `False` caso contrário. Para o teste, use a função nativa do Python [`isinstance`](https://www.w3schools.com/python/ref_func_isinstance.asp).\n",
    "\n",
    "Para testar sua classe atualizada:\n",
    "* Crie uma instância de Evento com valor passado e chame o método `isConcluido()` para a instância criada. Em seguida imprima o atributo `is_concluido`. \n",
    "* Invoque o método de classe `num_eventos()` a partir da classe Evento (ou seja, sem criar nenhuma instância).\n",
    "* Chame o método estático `valida_evento()` a partir da classe Evento. Experimente passar valores corretos e incorretos. \n"
   ]
  },
  {
   "cell_type": "code",
   "execution_count": null,
   "metadata": {
    "vscode": {
     "languageId": "plaintext"
    }
   },
   "outputs": [],
   "source": [
    "from datetime import datetime\n",
    "\n",
    "class Evento:\n",
    "    \n",
    "    total_eventos = 0  # Atributo de classe para contar instâncias\n",
    "\n",
    "    def __init__(self, titulo: str, data_hora: datetime, descricao: str):\n",
    "\n",
    "        self.titulo = titulo\n",
    "        self.data_hora = data_hora\n",
    "        self.descricao = descricao\n",
    "        self.is_concluido = False\n",
    "        Evento.total_eventos += 1\n",
    "\n",
    "    def isConcluido(self) -> bool:\n",
    "\n",
    "        if self.data_hora < datetime.now():\n",
    "            self.is_concluido = True\n",
    "        return self.is_concluido\n",
    "\n",
    "    @classmethod\n",
    "    def num_eventos(cls) -> int:\n",
    "        return cls.total_eventos\n",
    "\n",
    "    @staticmethod\n",
    "    def valida_evento(titulo, data_hora, descricao) -> bool:\n",
    "        return (isinstance(titulo, str) and \n",
    "                isinstance(data_hora, datetime) and \n",
    "                isinstance(descricao, str))\n",
    "\n",
    "# Teste da Q2\n",
    "evento3 = Evento(\"Palestra\", datetime(2025, 9, 6, 10, 0), \"Sobre Python\")\n",
    "print(\"Evento 3 - isConcluido:\", evento3.isConcluido())  # Deve ser True (data passada)\n",
    "print(\"Total de Eventos:\", Evento.num_eventos())  # Chama método de classe\n",
    "print(\"Validação correta:\", Evento.valida_evento(\"Teste\", datetime.now(), \"Descrição\"))  # True\n",
    "print(\"Validação incorreta:\", Evento.valida_evento(123, \"data\", 456))  # False"
   ]
  },
  {
   "cell_type": "markdown",
   "metadata": {
    "vscode": {
     "languageId": "plaintext"
    }
   },
   "source": [
    "#### Q3.\n",
    "\n",
    "Vamos incluir métodos mágicos! ✨🪄🔮\n",
    "\n",
    "Redefina a classe incluindo\":\n",
    "* Método `__str__` que imprime os atributos do evento na forma `\"Evento: titulo, Data: data_hora, Descrição: descricao, Concluido: is_concluido\"`.\n",
    "* Implemente os métodos de comparação `__eq__`, `__ne__`, `__lt__`, `__le__`, `__gt__` e `__ge__` para comparar eventos baseados no atributo `data_hora`. Esses métodos devem comparar duas instâncias de Evento e retornar os resultados apropriados (`True` ou `False`).\n",
    "\n",
    "Para testar, crie duas instâncias de Evento com datas diferentes. Imprima as instâncias com a função `print()` e apresente o resultado das comparações entre eventos (`==`, `!=`, `<`, `<=`, `>`, `>=`)."
   ]
  },
  {
   "cell_type": "code",
   "execution_count": null,
   "metadata": {
    "vscode": {
     "languageId": "plaintext"
    }
   },
   "outputs": [],
   "source": [
    "from datetime import datetime\n",
    "\n",
    "class Evento:\n",
    "    total_eventos = 0  # Atributo de classe para contar instâncias\n",
    "\n",
    "    def __init__(self, titulo: str, data_hora: datetime, descricao: str):\n",
    "        self.titulo = titulo\n",
    "        self.data_hora = data_hora\n",
    "        self.descricao = descricao\n",
    "        self.is_concluido = False\n",
    "        Evento.total_eventos += 1\n",
    "\n",
    "    def isConcluido(self) -> bool:\n",
    "        if self.data_hora < datetime.now():\n",
    "            self.is_concluido = True\n",
    "        return self.is_concluido\n",
    "\n",
    "    @classmethod\n",
    "    def num_eventos(cls) -> int:\n",
    "        return cls.total_eventos\n",
    "\n",
    "    @staticmethod\n",
    "    def valida_evento(titulo, data_hora, descricao) -> bool:\n",
    "        return (isinstance(titulo, str) and \n",
    "                isinstance(data_hora, datetime) and \n",
    "                isinstance(descricao, str))\n",
    "\n",
    "    def __str__(self) -> str:\n",
    "        return (f\"Evento: {self.titulo}, Data: {self.data_hora}, \"\n",
    "                f\"Descrição: {self.descricao}, Concluído: {self.is_concluido}\")\n",
    "\n",
    "    def __eq__(self, other) -> bool:\n",
    "        if not isinstance(other, Evento):\n",
    "            return False\n",
    "        return self.data_hora == other.data_hora\n",
    "\n",
    "    def __ne__(self, other) -> bool:\n",
    "        return not self.__eq__(other)\n",
    "\n",
    "    def __lt__(self, other) -> bool:\n",
    "        if not isinstance(other, Evento):\n",
    "            return False\n",
    "        return self.data_hora < other.data_hora\n",
    "\n",
    "    def __le__(self, other) -> bool:\n",
    "        return self.__lt__(other) or self.__eq__(other)\n",
    "\n",
    "    def __gt__(self, other) -> bool:\n",
    "        if not isinstance(other, Evento):\n",
    "            return False\n",
    "        return self.data_hora > other.data_hora\n",
    "\n",
    "    def __ge__(self, other) -> bool:\n",
    "        return self.__gt__(other) or self.__eq__(other)\n",
    "\n",
    "# Teste da Q3\n",
    "evento4 = Evento(\"Reunião\", datetime(2025, 9, 7, 15, 0), \"Reunião de equipe\")\n",
    "evento5 = Evento(\"Workshop\", datetime(2025, 9, 7, 16, 0), \"Workshop de Python\")\n",
    "\n",
    "print(evento4)\n",
    "print(evento5)\n",
    "print(f\"{evento4} == {evento5}: {evento4 == evento5}\")\n",
    "print(f\"{evento4} != {evento5}: {evento4 != evento5}\")\n",
    "print(f\"{evento4} < {evento5}: {evento4 < evento5}\")\n",
    "print(f\"{evento4} <= {evento5}: {evento4 <= evento5}\")\n",
    "print(f\"{evento4} > {evento5}: {evento4 > evento5}\")\n",
    "print(f\"{evento4} >= {evento5}: {evento4 >= evento5}\")"
   ]
  }
 ],
 "metadata": {
  "language_info": {
   "name": "python"
  }
 },
 "nbformat": 4,
 "nbformat_minor": 2
}
